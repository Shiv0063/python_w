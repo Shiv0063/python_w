{
 "cells": [
  {
   "cell_type": "code",
   "execution_count": 7,
   "id": "a3f8e156",
   "metadata": {},
   "outputs": [
    {
     "ename": "TypeError",
     "evalue": "demo() takes no arguments",
     "output_type": "error",
     "traceback": [
      "\u001b[1;31m---------------------------------------------------------------------------\u001b[0m",
      "\u001b[1;31mTypeError\u001b[0m                                 Traceback (most recent call last)",
      "Input \u001b[1;32mIn [7]\u001b[0m, in \u001b[0;36m<cell line: 16>\u001b[1;34m()\u001b[0m\n\u001b[0;32m     13\u001b[0m     \u001b[38;5;28;01mdef\u001b[39;00m \u001b[38;5;21mgetnum\u001b[39m(\u001b[38;5;28mself\u001b[39m):\n\u001b[0;32m     14\u001b[0m         \u001b[38;5;28mself\u001b[39m\u001b[38;5;241m.\u001b[39mtotal \u001b[38;5;241m=\u001b[39m \u001b[38;5;28mself\u001b[39m\u001b[38;5;241m.\u001b[39mnum1 \u001b[38;5;241m+\u001b[39m \u001b[38;5;28mself\u001b[39m\u001b[38;5;241m.\u001b[39mnum2\n\u001b[1;32m---> 16\u001b[0m obj \u001b[38;5;241m=\u001b[39m \u001b[43mdemo\u001b[49m\u001b[43m(\u001b[49m\u001b[38;5;241;43m67\u001b[39;49m\u001b[43m,\u001b[49m\u001b[38;5;241;43m89\u001b[39;49m\u001b[43m)\u001b[49m\n\u001b[0;32m     18\u001b[0m obj\u001b[38;5;241m.\u001b[39mgetnum()\n\u001b[0;32m     20\u001b[0m obj\u001b[38;5;241m.\u001b[39mdisplay()\n",
      "\u001b[1;31mTypeError\u001b[0m: demo() takes no arguments"
     ]
    }
   ],
   "source": [
    "class demo:\n",
    "    num1 = 0 \n",
    "    num2 = 0\n",
    "    total = 0\n",
    "    \n",
    "    def _init_(self,n1,n2):\n",
    "        self.num1=n1\n",
    "        self.num2=n2\n",
    "        \n",
    "    def display(self):\n",
    "        print(\"the answer is: \"+str(self.total))\n",
    "    \n",
    "    def getnum(self):\n",
    "        self.total = self.num1 + self.num2\n",
    "        \n",
    "obj = demo(67,89)\n",
    "\n",
    "obj.getnum()\n",
    "\n",
    "obj.display()"
   ]
  },
  {
   "cell_type": "code",
   "execution_count": null,
   "id": "c80933a4",
   "metadata": {},
   "outputs": [],
   "source": []
  }
 ],
 "metadata": {
  "kernelspec": {
   "display_name": "Python 3 (ipykernel)",
   "language": "python",
   "name": "python3"
  },
  "language_info": {
   "codemirror_mode": {
    "name": "ipython",
    "version": 3
   },
   "file_extension": ".py",
   "mimetype": "text/x-python",
   "name": "python",
   "nbconvert_exporter": "python",
   "pygments_lexer": "ipython3",
   "version": "3.9.12"
  }
 },
 "nbformat": 4,
 "nbformat_minor": 5
}
