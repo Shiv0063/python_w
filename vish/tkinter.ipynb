{
 "cells": [
  {
   "cell_type": "code",
   "execution_count": 3,
   "id": "8363f7af",
   "metadata": {},
   "outputs": [],
   "source": [
    "from tkinter import *\n",
    "\n",
    "ov=Tk()\n",
    "\n",
    "ov.mainloop()"
   ]
  },
  {
   "cell_type": "code",
   "execution_count": 6,
   "id": "bb329102",
   "metadata": {},
   "outputs": [],
   "source": [
    "from tkinter import *\n",
    "master = Tk()\n",
    "w = Canvas(master, width=500, height=600)\n",
    "w.pack()\n",
    "canvas_height=100\n",
    "canvas_width=1000\n",
    "y = int(canvas_height / 2)\n",
    "w.create_line(0, 35, canvas_width, y )\n",
    "mainloop()"
   ]
  },
  {
   "cell_type": "code",
   "execution_count": 49,
   "id": "8d5dc7f1",
   "metadata": {},
   "outputs": [],
   "source": [
    "from tkinter import *\n",
    "\n",
    "vb=Tk()\n",
    "v = Canvas(vb,width=300, height=400)\n",
    "v.pack()\n",
    "c_h=100\n",
    "c_w=300\n",
    "y=int(c_h/2)\n",
    "x=int(c_h/2)\n",
    "v.create_line(0,50,c_w,y)\n",
    "v.create_line(250,30,c_w,y)\n",
    "v.create_line(0,10,c_w,x)\n",
    "mainloop()"
   ]
  },
  {
   "cell_type": "code",
   "execution_count": null,
   "id": "7fcf6ea6",
   "metadata": {},
   "outputs": [],
   "source": [
    "from tkinter import *\n",
    "\n",
    "vb=Tk()\n"
   ]
  },
  {
   "cell_type": "code",
   "execution_count": null,
   "id": "892ded4e",
   "metadata": {},
   "outputs": [],
   "source": []
  }
 ],
 "metadata": {
  "kernelspec": {
   "display_name": "Python 3 (ipykernel)",
   "language": "python",
   "name": "python3"
  },
  "language_info": {
   "codemirror_mode": {
    "name": "ipython",
    "version": 3
   },
   "file_extension": ".py",
   "mimetype": "text/x-python",
   "name": "python",
   "nbconvert_exporter": "python",
   "pygments_lexer": "ipython3",
   "version": "3.9.12"
  }
 },
 "nbformat": 4,
 "nbformat_minor": 5
}
