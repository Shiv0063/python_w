{
 "cells": [
  {
   "cell_type": "code",
   "execution_count": 7,
   "id": "f50c023c",
   "metadata": {},
   "outputs": [
    {
     "name": "stdout",
     "output_type": "stream",
     "text": [
      "{'name': {1: 'vishal', 2: 'up', 3: 'fri'}}\n"
     ]
    }
   ],
   "source": [
    "dic={\n",
    "    1:'vishal',\n",
    "    2:'up',\n",
    "    3:'fri'\n",
    "}\n",
    "a={\n",
    "     'name':dic\n",
    "}\n",
    "# print(type(dic))\n",
    "print(a)\n",
    "\n"
   ]
  },
  {
   "cell_type": "code",
   "execution_count": 13,
   "id": "b29b6eb0",
   "metadata": {},
   "outputs": [
    {
     "name": "stdout",
     "output_type": "stream",
     "text": [
      "{'vishal': 1234, 'hiten': 2345, 'mitul': 3456, 'dinesh': 4567}\n",
      "vishal 1234\n",
      "hiten 2345\n",
      "mitul 3456\n",
      "dinesh 4567\n"
     ]
    }
   ],
   "source": [
    "pwd = {\n",
    "    'vishal':1234,\n",
    "    'hiten':2345,\n",
    "    'mitul':3456,\n",
    "    'dinesh':4567\n",
    "}\n",
    "print(pwd)\n",
    "for i in pwd:\n",
    "    print(i,pwd[i])\n",
    "\n"
   ]
  },
  {
   "cell_type": "code",
   "execution_count": 21,
   "id": "574dff62",
   "metadata": {},
   "outputs": [
    {
     "name": "stdout",
     "output_type": "stream",
     "text": [
      "enter the id:wer\n",
      "id is rong\n"
     ]
    }
   ],
   "source": [
    "pwd = {\n",
    "    'vishal':1234,\n",
    "    'hiten':2345,\n",
    "    'mitul':3456,\n",
    "    'dinesh':4567\n",
    "}\n",
    "name=input('enter the id:')\n",
    "if name in pwd.keys():\n",
    "    pswd=eval(input('enter the password:'))\n",
    "    if pswd==pwd[name]:\n",
    "        print('login')\n",
    "    else:\n",
    "        print('password is rong')\n",
    "else:\n",
    "    print('id is rong')"
   ]
  },
  {
   "cell_type": "code",
   "execution_count": null,
   "id": "9fb74f5a",
   "metadata": {},
   "outputs": [],
   "source": []
  },
  {
   "cell_type": "code",
   "execution_count": null,
   "id": "ed007722",
   "metadata": {},
   "outputs": [],
   "source": []
  },
  {
   "cell_type": "code",
   "execution_count": null,
   "id": "8ec5e4c8",
   "metadata": {},
   "outputs": [],
   "source": []
  },
  {
   "cell_type": "code",
   "execution_count": null,
   "id": "528cbaaa",
   "metadata": {},
   "outputs": [],
   "source": []
  },
  {
   "cell_type": "code",
   "execution_count": null,
   "id": "53b5ca42",
   "metadata": {},
   "outputs": [],
   "source": []
  }
 ],
 "metadata": {
  "kernelspec": {
   "display_name": "Python 3 (ipykernel)",
   "language": "python",
   "name": "python3"
  },
  "language_info": {
   "codemirror_mode": {
    "name": "ipython",
    "version": 3
   },
   "file_extension": ".py",
   "mimetype": "text/x-python",
   "name": "python",
   "nbconvert_exporter": "python",
   "pygments_lexer": "ipython3",
   "version": "3.9.12"
  }
 },
 "nbformat": 4,
 "nbformat_minor": 5
}
