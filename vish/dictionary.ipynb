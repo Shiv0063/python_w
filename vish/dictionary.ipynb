{
 "cells": [
  {
   "cell_type": "code",
   "execution_count": 15,
   "id": "59ae3242",
   "metadata": {},
   "outputs": [
    {
     "name": "stdout",
     "output_type": "stream",
     "text": [
      "852167943\n",
      "258\n"
     ]
    }
   ],
   "source": [
    "tokan= { 'id': '852167943', 'password': '258'}\n",
    "id2='id'\n",
    "pw='password'\n",
    "print(tokan[id2])\n",
    "print(tokan[pw])"
   ]
  },
  {
   "cell_type": "code",
   "execution_count": 17,
   "id": "6ed9f249",
   "metadata": {},
   "outputs": [
    {
     "name": "stdout",
     "output_type": "stream",
     "text": [
      "enter the id:789456213\n",
      "enter the password:2581\n",
      "ID: 789456213\n",
      "PASSWORD: 2581\n"
     ]
    }
   ],
   "source": [
    "a=input(\"enter the id:\")\n",
    "b=input(\"enter the password:\")\n",
    "id2='id'\n",
    "pw='password'\n",
    "dic= {id2: a , pw: b }\n",
    "print(\"ID:\",dic[id2])\n",
    "print('PASSWORD:',dic[pw])"
   ]
  },
  {
   "cell_type": "code",
   "execution_count": 21,
   "id": "6b43f868",
   "metadata": {},
   "outputs": [
    {
     "name": "stdout",
     "output_type": "stream",
     "text": [
      "ID: 8521679\n",
      "PASSWORD: 582\n"
     ]
    }
   ],
   "source": [
    "def dic2( id2 ,pw):\n",
    "    dick={'id': id2,'password':pw}\n",
    "    a='id'\n",
    "    b='password'\n",
    "    print(\"ID:\",dick[a])\n",
    "    print('PASSWORD:',dick[b])\n",
    "    \n",
    "dic2(8521679,582)"
   ]
  },
  {
   "cell_type": "code",
   "execution_count": 28,
   "id": "03d9da67",
   "metadata": {},
   "outputs": [
    {
     "name": "stdout",
     "output_type": "stream",
     "text": [
      "ZcsM"
     ]
    }
   ],
   "source": [
    "from random import choice\n",
    "\n",
    "a='qwertyuiopasdfghjklzxcvbnm'\n",
    "b='QWERTYUIOPASDFGHJKLZXCVBNM'\n",
    "C='!@#$%^&*-+'\n",
    "D='7412369850'\n",
    "\n",
    "rondm=a+b+c+d\n",
    "for i in range(4):\n",
    "    print(choice(rondm),end='')"
   ]
  },
  {
   "cell_type": "code",
   "execution_count": null,
   "id": "a6feec25",
   "metadata": {},
   "outputs": [],
   "source": []
  },
  {
   "cell_type": "code",
   "execution_count": null,
   "id": "d596f712",
   "metadata": {},
   "outputs": [],
   "source": []
  }
 ],
 "metadata": {
  "kernelspec": {
   "display_name": "Python 3 (ipykernel)",
   "language": "python",
   "name": "python3"
  },
  "language_info": {
   "codemirror_mode": {
    "name": "ipython",
    "version": 3
   },
   "file_extension": ".py",
   "mimetype": "text/x-python",
   "name": "python",
   "nbconvert_exporter": "python",
   "pygments_lexer": "ipython3",
   "version": "3.9.12"
  }
 },
 "nbformat": 4,
 "nbformat_minor": 5
}
