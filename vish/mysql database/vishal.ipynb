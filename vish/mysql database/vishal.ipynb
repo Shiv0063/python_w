{
 "cells": [
  {
   "cell_type": "code",
   "execution_count": 12,
   "id": "cb8e64d1",
   "metadata": {},
   "outputs": [],
   "source": [
    "import mysql.connector as sqldt\n",
    "\n",
    "data=sqldt.connect( host=\"localhost\",\n",
    "                              user=\"root\",\n",
    "                              password=\"\",\n",
    "                              database=\"schooldata\")\n",
    "                            "
   ]
  },
  {
   "cell_type": "code",
   "execution_count": 9,
   "id": "09411de0",
   "metadata": {},
   "outputs": [
    {
     "name": "stdout",
     "output_type": "stream",
     "text": [
      "('demo',)\n",
      "('dtabel',)\n",
      "('information_schema',)\n",
      "('mysql',)\n",
      "('performance_schema',)\n",
      "('phpmyadmin',)\n",
      "('schooldata',)\n",
      "('test',)\n",
      "('vishal',)\n"
     ]
    }
   ],
   "source": [
    "\n",
    "\n",
    "# mycursor.execute(\"CREATE DATABASE schooldata\")\n",
    "# mycursor.execute(\"SHOW DATABASES\")\n",
    "\n",
    "# for x in mycursor:\n",
    "#     print(x)"
   ]
  },
  {
   "cell_type": "code",
   "execution_count": 14,
   "id": "f7bd4db9",
   "metadata": {},
   "outputs": [
    {
     "name": "stdout",
     "output_type": "stream",
     "text": [
      "yes\n"
     ]
    }
   ],
   "source": [
    "\n",
    "\n",
    "# st=\"CREATE TABLE student(name VARCHAR(255),number int)\"\n",
    "# mycursor.execute(st)\n",
    "\n",
    "# print(\"yes\")"
   ]
  },
  {
   "cell_type": "code",
   "execution_count": 15,
   "id": "ba46f7db",
   "metadata": {},
   "outputs": [
    {
     "name": "stdout",
     "output_type": "stream",
     "text": [
      "1 rows\n"
     ]
    }
   ],
   "source": [
    "mycursor=data.cursor()\n",
    "\n",
    "ins=\"INSERT INTO student(name,number) VALUES(%s,%s)\"\n",
    "val=(\"vishal\",1234567890)\n",
    "\n",
    "mycursor.execute(ins,val)\n",
    "data.commit()\n",
    "\n",
    "print(mycursor.rowcount,\"rows\")"
   ]
  },
  {
   "cell_type": "code",
   "execution_count": 6,
   "id": "f375da83",
   "metadata": {},
   "outputs": [
    {
     "name": "stdout",
     "output_type": "stream",
     "text": [
      "enter the table data number:1\n",
      "jy\n"
     ]
    }
   ],
   "source": [
    "td=eval(input(\"enter the table data number:\"))\n",
    "if 1==td:\n",
    "    print(\"jy\")\n",
    "else:\n",
    "    print(\"no\")\n"
   ]
  },
  {
   "cell_type": "code",
   "execution_count": 28,
   "id": "12052e86",
   "metadata": {},
   "outputs": [
    {
     "name": "stdout",
     "output_type": "stream",
     "text": [
      "Select The Table Name:er\n",
      "enter the table data number:1\n",
      "enter the value like this (name,product):(vishal,game)\n",
      "INSERT INTO er (name,product) VALUES(%s,%s) (vishal,game)\n"
     ]
    }
   ],
   "source": [
    "tname=input(\"Select The Table Name:\")\n",
    "ii=\"INSERT INTO \"\n",
    "np=\" (name,product) VALUES(%s,%s)\"\n",
    "tm=ii+tname+np\n",
    "# print(tm)\n",
    "td=eval(input(\"enter the table data number:\"))\n",
    "if 1==td:\n",
    "    val=input(\"enter the value like this (name,product):\")\n",
    "    print(tm,val)\n",
    "#         msql.commit()\n",
    "#         print(cursor.rowcount,\"record inserted.\")\n",
    "else:\n",
    "    val=input(\"enter the values like this [(name,product),(name,product)]:\")\n",
    "#         print(ii+tname+np,val)\n",
    "#         msql.commit()\n",
    "#         print(cursor.rowcount,\"record inserted.\")\n",
    "        "
   ]
  },
  {
   "cell_type": "code",
   "execution_count": null,
   "id": "c0d6ddd1",
   "metadata": {},
   "outputs": [],
   "source": [
    "import mysql.connector\n",
    "\n",
    "msql = mysql.connector.connect(\n",
    "    host='localhost',\n",
    "    user='root',\n",
    "    password='',\n",
    "    database=\"meshoo\"\n",
    ")\n",
    "cursor=msql.cursor()\n",
    "\n",
    "def show():\n",
    "    cursor.execute(\"SHOW DATABASES\")\n",
    "    for i in cursor:\n",
    "            print(i)\n",
    "\n",
    "def creat():\n",
    "    name=input(\"enter the database name:\")\n",
    "    cd=\"CREATE DATABASE \"\n",
    "    cursor.execute(cd+name)\n",
    "    print(\"created\")\n",
    "\n",
    "def usedb():\n",
    "    namedb = input(\"select the DATABASE:\")\n",
    "    use =\"USE \" \n",
    "    cursor.execute(use+namedb)\n",
    "    print(\"now you will use DATABASE\")\n",
    "\n",
    "def ctable():\n",
    "    tname=input(\"Enter The Table Name:\")\n",
    "    ct=\"CREATE TABLE \"\n",
    "    pro=\" (name VARCHAR(255),product VARCHAR(255))\"\n",
    "    cursor.execute(ct+tname+pro)\n",
    "    print(\"now table is rady.\")\n",
    "\n",
    "def insert():\n",
    "    tname=input(\"Select The Table Name:\")\n",
    "    ii=\"INSERT INTO \"\n",
    "    np=\" (name,product) VALUES(%s,%s)\"\n",
    "    tm=ii+tname+np\n",
    "    td=eval(input(\"enter the table data number:\"))\n",
    "    if 1==td:\n",
    "        val=input(\"enter the value like this (name,product):\")\n",
    "        cursor.execute(tm,val)\n",
    "#         break\n",
    "        msql.commit()\n",
    "        print(cursor.rowcount,\"record inserted.\")\n",
    "    else: \n",
    "        val=input(\"enter the values like this [(name,product),(name,product)]:\")\n",
    "        cursor.executemany(ii+tname+np,val)\n",
    "        msql.commit()\n",
    "        print(cursor.rowcount,\"record inserted.\")\n",
    "        \n",
    "def cr():\n",
    "    print(cursor.rowcount,\"record\")\n",
    "\n",
    "def viwed():\n",
    "    tname=input(\"Select The Table Name:\")\n",
    "    slct=\"SELECT * FROM \"\n",
    "    curser.execute(slct+tname)\n",
    "    mr=cursor.fetchall()\n",
    "    for i in mr:\n",
    "        print(i)\n",
    "show()\n",
    "# creat()\n",
    "print()\n",
    "usedb()\n",
    "print()\n",
    "# ctable()\n",
    "print()\n",
    "# insert()\n",
    "print()\n",
    "cr()\n",
    "print()\n",
    "viwed()"
   ]
  },
  {
   "cell_type": "code",
   "execution_count": null,
   "id": "27df1609",
   "metadata": {},
   "outputs": [],
   "source": []
  }
 ],
 "metadata": {
  "kernelspec": {
   "display_name": "Python 3 (ipykernel)",
   "language": "python",
   "name": "python3"
  },
  "language_info": {
   "codemirror_mode": {
    "name": "ipython",
    "version": 3
   },
   "file_extension": ".py",
   "mimetype": "text/x-python",
   "name": "python",
   "nbconvert_exporter": "python",
   "pygments_lexer": "ipython3",
   "version": "3.9.12"
  }
 },
 "nbformat": 4,
 "nbformat_minor": 5
}
