{
 "cells": [
  {
   "cell_type": "code",
   "execution_count": 5,
   "id": "75012609",
   "metadata": {},
   "outputs": [
    {
     "name": "stdout",
     "output_type": "stream",
     "text": [
      "Select The Table Name:vidhs\n",
      "INSERT INTO vidhs (name,product) VALUES(%s,%s)\n",
      "enter the table data number:1\n",
      "enter the value like this (name,product):(\"fgh\",\"ddf\")\n",
      "<class 'tuple'>\n",
      "INSERT INTO vidhs (name,product) VALUES(%s,%s) (\"fgh\",\"ddf\")\n",
      "<class 'str'>\n"
     ]
    }
   ],
   "source": [
    "tname=input(\"Select The Table Name:\")\n",
    "ii=\"INSERT INTO \",tname,\" (name,product) VALUES(%s,%s)\"\n",
    "vb = ''\n",
    "for i in ii:\n",
    "    vb = vb +i\n",
    "print(vb)\n",
    "td=eval(input(\"enter the table data number:\"))\n",
    "if 1==td:\n",
    "    val=input(\"enter the value like this (name,product):\")\n",
    "    gh=vb,val\n",
    "    print(type(gh))\n",
    "    print(vb,val)\n",
    "    vb2 = ''\n",
    "    for i in ii:\n",
    "        vb2 = vb2 +i\n",
    "    print(type(vb2))\n",
    "#         break\n",
    "#     msql.commit()\n",
    "#     print(cursor.rowcount,\"record inserted.\")\n",
    "# else: \n",
    "#     val=input(\"enter the values like this [(name,product),(name,product)]:\")\n",
    "#     cursor.executemany(vb,val)\n",
    "#     msql.commit()\n",
    "#     print(cursor.rowcount,\"record inserted.\")\n",
    "        "
   ]
  },
  {
   "cell_type": "code",
   "execution_count": 11,
   "id": "8f8a360b",
   "metadata": {},
   "outputs": [
    {
     "name": "stdout",
     "output_type": "stream",
     "text": [
      "(\"vishal\",\"gh\")\n",
      "<class 'tuple'>\n",
      "<class 'str'>\n",
      "('(', '\"', 'v', 'i', 's', 'h', 'a', 'l', '\"', ',', '\"', 'g', 'h', '\"', ')')\n",
      "<class 'tuple'>\n"
     ]
    }
   ],
   "source": [
    "fg=(\"vish\",\"dksyg\")\n",
    "fh=input()\n",
    "print(type(fg))\n",
    "print(type(fh))\n",
    "t=tuple(fh)\n",
    "\n",
    "print(t)\n",
    "print(type(t))\n",
    "\n"
   ]
  },
  {
   "cell_type": "code",
   "execution_count": null,
   "id": "a48d1b64",
   "metadata": {},
   "outputs": [],
   "source": []
  }
 ],
 "metadata": {
  "kernelspec": {
   "display_name": "Python 3 (ipykernel)",
   "language": "python",
   "name": "python3"
  },
  "language_info": {
   "codemirror_mode": {
    "name": "ipython",
    "version": 3
   },
   "file_extension": ".py",
   "mimetype": "text/x-python",
   "name": "python",
   "nbconvert_exporter": "python",
   "pygments_lexer": "ipython3",
   "version": "3.9.12"
  }
 },
 "nbformat": 4,
 "nbformat_minor": 5
}
