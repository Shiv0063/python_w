{
 "cells": [
  {
   "cell_type": "code",
   "execution_count": 16,
   "id": "1ad59c84",
   "metadata": {},
   "outputs": [
    {
     "name": "stdout",
     "output_type": "stream",
     "text": [
      "('amazon',) ('data',) ('demo',) ('dtabel',) ('dweb',) ('frd',) ('information_schema',) ('kdata',) ('khajir',) ('mydata',) ('mysql',) ('performance_schema',) ('phpmyadmin',) ('rockstar',) ('schooldata',) ('smh',) ('test',) ('vish',) ('vishal',) select the DATABASE:amazon\n",
      "now you will use DATABASE\n",
      "\n",
      "Enter The Table Name:dfs\n",
      "now table is rady.\n",
      "\n",
      "Select The Table Name:dfs\n",
      "enter the table data number:1\n"
     ]
    },
    {
     "ename": "AttributeError",
     "evalue": "'tuple' object has no attribute 'encode'",
     "output_type": "error",
     "traceback": [
      "\u001b[1;31m---------------------------------------------------------------------------\u001b[0m",
      "\u001b[1;31mAttributeError\u001b[0m                            Traceback (most recent call last)",
      "Input \u001b[1;32mIn [16]\u001b[0m, in \u001b[0;36m<cell line: 68>\u001b[1;34m()\u001b[0m\n\u001b[0;32m     66\u001b[0m ctable()\n\u001b[0;32m     67\u001b[0m \u001b[38;5;28mprint\u001b[39m()\n\u001b[1;32m---> 68\u001b[0m \u001b[43minsert\u001b[49m\u001b[43m(\u001b[49m\u001b[43m)\u001b[49m\n\u001b[0;32m     69\u001b[0m \u001b[38;5;28mprint\u001b[39m()\n\u001b[0;32m     70\u001b[0m cr()\n",
      "Input \u001b[1;32mIn [16]\u001b[0m, in \u001b[0;36minsert\u001b[1;34m()\u001b[0m\n\u001b[0;32m     38\u001b[0m     sql\u001b[38;5;241m=\u001b[39m\u001b[38;5;124m\"\u001b[39m\u001b[38;5;124mINSERT INTO\u001b[39m\u001b[38;5;124m\"\u001b[39m,tname,\u001b[38;5;124m\"\u001b[39m\u001b[38;5;124m(name,product) VALUES(\u001b[39m\u001b[38;5;132;01m%s\u001b[39;00m\u001b[38;5;124m,\u001b[39m\u001b[38;5;132;01m%s\u001b[39;00m\u001b[38;5;124m)\u001b[39m\u001b[38;5;124m\"\u001b[39m\n\u001b[0;32m     39\u001b[0m     \u001b[38;5;28;01mif\u001b[39;00m \u001b[38;5;241m1\u001b[39m\u001b[38;5;241m==\u001b[39mtd:\n\u001b[1;32m---> 40\u001b[0m         \u001b[43mcursor\u001b[49m\u001b[38;5;241;43m.\u001b[39;49m\u001b[43mexecute\u001b[49m\u001b[43m(\u001b[49m\u001b[43msql\u001b[49m\u001b[43m,\u001b[49m\u001b[43mval\u001b[49m\u001b[43m)\u001b[49m\n\u001b[0;32m     41\u001b[0m \u001b[38;5;66;03m#         break\u001b[39;00m\n\u001b[0;32m     42\u001b[0m         msql\u001b[38;5;241m.\u001b[39mcommit()\n",
      "File \u001b[1;32m~\\anaconda3\\lib\\site-packages\\mysql\\connector\\cursor.py:545\u001b[0m, in \u001b[0;36mMySQLCursor.execute\u001b[1;34m(self, operation, params, multi)\u001b[0m\n\u001b[0;32m    543\u001b[0m \u001b[38;5;28;01mtry\u001b[39;00m:\n\u001b[0;32m    544\u001b[0m     \u001b[38;5;28;01mif\u001b[39;00m \u001b[38;5;129;01mnot\u001b[39;00m \u001b[38;5;28misinstance\u001b[39m(operation, (\u001b[38;5;28mbytes\u001b[39m, \u001b[38;5;28mbytearray\u001b[39m)):\n\u001b[1;32m--> 545\u001b[0m         stmt \u001b[38;5;241m=\u001b[39m \u001b[43moperation\u001b[49m\u001b[38;5;241;43m.\u001b[39;49m\u001b[43mencode\u001b[49m(\u001b[38;5;28mself\u001b[39m\u001b[38;5;241m.\u001b[39m_connection\u001b[38;5;241m.\u001b[39mpython_charset)\n\u001b[0;32m    546\u001b[0m     \u001b[38;5;28;01melse\u001b[39;00m:\n\u001b[0;32m    547\u001b[0m         stmt \u001b[38;5;241m=\u001b[39m operation\n",
      "\u001b[1;31mAttributeError\u001b[0m: 'tuple' object has no attribute 'encode'"
     ]
    }
   ],
   "source": [
    "import mysql.connector\n",
    "\n",
    "msql = mysql.connector.connect(\n",
    "    host='localhost',\n",
    "    user='root',\n",
    "    password=''\n",
    ")\n",
    "cursor=msql.cursor()\n",
    "\n",
    "def show():\n",
    "    cursor.execute(\"SHOW DATABASES\")\n",
    "    for i in cursor:\n",
    "            print(i,end=' ')\n",
    "\n",
    "def creat():\n",
    "    name=input(\"enter the database name:\")\n",
    "    cd=\"CREATE DATABASE \"\n",
    "    cursor.execute(cd+name)\n",
    "    print(\"created\")\n",
    "\n",
    "def usedb():\n",
    "    namedb = input(\"select the DATABASE:\")\n",
    "    use =\"USE \" \n",
    "    cursor.execute(use+namedb)\n",
    "    print(\"now you will use DATABASE\")\n",
    "\n",
    "def ctable():\n",
    "    tname=input(\"Enter The Table Name:\")\n",
    "    ct=\"CREATE TABLE \"\n",
    "    pro=\" (name VARCHAR(255),product VARCHAR(255))\"\n",
    "    cursor.execute(ct+tname+pro)\n",
    "    print(\"now table is rady.\")\n",
    "\n",
    "def insert():\n",
    "    tname=input(\"Select The Table Name:\")\n",
    "    td=eval(input(\"enter the table data number:\"))\n",
    "    val=(\"VISHAL\",\"KIDY\")\n",
    "    sql=\"INSERT INTO\",tname,\" (name,product) VALUES(%s,%s)\"\n",
    "    if 1==td:\n",
    "        cursor.execute(sql,val)\n",
    "#         break\n",
    "        msql.commit()\n",
    "        print(cursor.rowcount,\"record inserted.\")\n",
    "    else: \n",
    "        val=input(\"enter the values like this [(name,product),(name,product)]:\")\n",
    "        cursor.executemany(ii+tname+np,val)\n",
    "        msql.commit()\n",
    "        print(cursor.rowcount,\"record inserted.\")\n",
    "        \n",
    "def cr():\n",
    "    print(cursor.rowcount,\"record\")\n",
    "\n",
    "def viwed():\n",
    "    tname=input(\"Select The Table Name:\")\n",
    "    slct=\"SELECT * FROM \"\n",
    "    curser.execute(slct+tname)\n",
    "    mr=cursor.fetchall()\n",
    "    for i in mr:\n",
    "        print(i)\n",
    "show()\n",
    "# print()\n",
    "# creat()\n",
    "# print()\n",
    "usedb()\n",
    "print()\n",
    "ctable()\n",
    "print()\n",
    "insert()\n",
    "print()\n",
    "cr()\n",
    "print()\n",
    "viwed()"
   ]
  },
  {
   "cell_type": "code",
   "execution_count": 11,
   "id": "123c02bc",
   "metadata": {},
   "outputs": [
    {
     "ename": "IndentationError",
     "evalue": "unexpected indent (361575954.py, line 2)",
     "output_type": "error",
     "traceback": [
      "\u001b[1;36m  Input \u001b[1;32mIn [11]\u001b[1;36m\u001b[0m\n\u001b[1;33m    print(\"INSERT INTO\")\u001b[0m\n\u001b[1;37m    ^\u001b[0m\n\u001b[1;31mIndentationError\u001b[0m\u001b[1;31m:\u001b[0m unexpected indent\n"
     ]
    }
   ],
   "source": [
    "# tname=input(\"Select The Table Name:\")\n",
    "    print(\"INSERT INTO\")"
   ]
  },
  {
   "cell_type": "code",
   "execution_count": 30,
   "id": "d5f5a5b7",
   "metadata": {},
   "outputs": [
    {
     "name": "stdout",
     "output_type": "stream",
     "text": [
      "Select The Table Name:df\n",
      "INSERT INTO df (name,product) VALUES(%s,%s)\n",
      "<class 'str'>\n"
     ]
    }
   ],
   "source": [
    "tname=input(\"Select The Table Name:\")\n",
    "ty=\"INSERT INTO \",tname,\" (name,product) VALUES(%s,%s)\"\n",
    "vb = ''\n",
    "for i in ty:\n",
    "    vb = vb +i\n",
    "print(vb)\n",
    "print(type(vb))"
   ]
  },
  {
   "cell_type": "code",
   "execution_count": null,
   "id": "e02463d8",
   "metadata": {},
   "outputs": [],
   "source": []
  }
 ],
 "metadata": {
  "kernelspec": {
   "display_name": "Python 3 (ipykernel)",
   "language": "python",
   "name": "python3"
  },
  "language_info": {
   "codemirror_mode": {
    "name": "ipython",
    "version": 3
   },
   "file_extension": ".py",
   "mimetype": "text/x-python",
   "name": "python",
   "nbconvert_exporter": "python",
   "pygments_lexer": "ipython3",
   "version": "3.9.12"
  }
 },
 "nbformat": 4,
 "nbformat_minor": 5
}
