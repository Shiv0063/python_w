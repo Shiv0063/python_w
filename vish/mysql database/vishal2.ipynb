{
 "cells": [
  {
   "cell_type": "code",
   "execution_count": 14,
   "id": "8e31506b",
   "metadata": {},
   "outputs": [
    {
     "name": "stdout",
     "output_type": "stream",
     "text": [
      "('amazon',) ('data',) ('demo',) ('dtabel',) ('dweb',) ('frd',) ('information_schema',) ('kdata',) ('khajir',) ('mydata',) ('mysql',) ('performance_schema',) ('phpmyadmin',) ('rockstar',) ('schooldata',) ('smh',) ('test',) ('vish',) ('vishal',) select the DATABASE:amazon\n",
      "now you will use DATABASE\n",
      "Enter The Table Name:kg\n",
      "now table is rady.\n",
      "Select The Table Name:kg\n",
      "1 record inserted.\n",
      "1 record\n"
     ]
    }
   ],
   "source": [
    "import mysql.connector\n",
    "\n",
    "msql = mysql.connector.connect(\n",
    "    host='localhost',\n",
    "    user='root',\n",
    "    password=''\n",
    ")\n",
    "cursor=msql.cursor()\n",
    "\n",
    "cursor.execute(\"SHOW DATABASES\")\n",
    "for i in cursor:\n",
    "    print(i,end=' ')\n",
    "\n",
    "# def creat():\n",
    "#     name=input(\"enter the database name:\")\n",
    "#     cd=\"CREATE DATABASE \"\n",
    "#     cursor.execute(cd+name)\n",
    "#     print(\"created\")\n",
    "\n",
    "namedb = input(\"select the DATABASE:\")\n",
    "use =\"USE \" \n",
    "cursor.execute(use+namedb)\n",
    "print(\"now you will use DATABASE\")\n",
    "\n",
    "tname=input(\"Enter The Table Name:\")\n",
    "ct=\"CREATE TABLE \"\n",
    "pro=\" (name VARCHAR(255),product VARCHAR(255))\"\n",
    "cursor.execute(ct+tname+pro)\n",
    "print(\"now table is rady.\")\n",
    "\n",
    "tname3=input(\"Select The Table Name:\")\n",
    "# td=eval(input(\"enter the table data number:\"))\n",
    "val=(\"VISHAL\",\"KIDY\")\n",
    "sql=\"INSERT INTO kg (name,product) VALUES(%s,%s)\"\n",
    "# if 1==td:\n",
    "cursor=msql.cursor()\n",
    "cursor.execute(sql,val)\n",
    "#         break\n",
    "msql.commit()\n",
    "print(cursor.rowcount,\"record inserted.\")\n",
    "# else: \n",
    "#     val=input(\"enter the values like this [(name,product),(name,product)]:\")\n",
    "#     cursor.executemany(ii+tname+np,val)\n",
    "#     msql.commit()\n",
    "#     print(cursor.rowcount,\"record inserted.\")\n",
    "        \n",
    "# def cr():\n",
    "print(cursor.rowcount,\"record\")\n",
    "\n",
    "# def viwed():\n",
    "#     tname=input(\"Select The Table Name:\")\n",
    "#     slct=\"SELECT * FROM \"\n",
    "#     curser.execute(slct+tname)\n",
    "#     mr=cursor.fetchall()\n",
    "#     for i in mr:\n",
    "#         print(i)"
   ]
  },
  {
   "cell_type": "code",
   "execution_count": 13,
   "id": "5252d51e",
   "metadata": {},
   "outputs": [
    {
     "name": "stdout",
     "output_type": "stream",
     "text": [
      "<class 'str'>\n"
     ]
    }
   ],
   "source": [
    "val=(\"VISHAL\",\"KIDY\")\n",
    "sql=\"INSERT INTO (name,product) VALUES(%s,%s)\"\n",
    "print(type(sql))"
   ]
  },
  {
   "cell_type": "code",
   "execution_count": 11,
   "id": "6f7dcb01",
   "metadata": {},
   "outputs": [
    {
     "ename": "SyntaxError",
     "evalue": "unexpected EOF while parsing (1560743721.py, line 3)",
     "output_type": "error",
     "traceback": [
      "\u001b[1;36m  Input \u001b[1;32mIn [11]\u001b[1;36m\u001b[0m\n\u001b[1;33m    print(type(val)\u001b[0m\n\u001b[1;37m                   ^\u001b[0m\n\u001b[1;31mSyntaxError\u001b[0m\u001b[1;31m:\u001b[0m unexpected EOF while parsing\n"
     ]
    }
   ],
   "source": [
    "val=(\"VISHAL\",\"KIDY\")\n",
    "sql=\"INSERT INTO\",tname3,\"(name,product) VALUES(%s,%s)\"\n",
    "print(type(val)"
   ]
  },
  {
   "cell_type": "code",
   "execution_count": 15,
   "id": "6dcaea86",
   "metadata": {},
   "outputs": [
    {
     "ename": "IndentationError",
     "evalue": "unexpected indent (443937792.py, line 2)",
     "output_type": "error",
     "traceback": [
      "\u001b[1;36m  Input \u001b[1;32mIn [15]\u001b[1;36m\u001b[0m\n\u001b[1;33m    ii=\"INSERT INTO \",tname,\" (name,product) VALUES(%s,%s)\"\u001b[0m\n\u001b[1;37m    ^\u001b[0m\n\u001b[1;31mIndentationError\u001b[0m\u001b[1;31m:\u001b[0m unexpected indent\n"
     ]
    }
   ],
   "source": [
    " tname=input(\"Select The Table Name:\")\n",
    "    ii=\"INSERT INTO \",tname,\" (name,product) VALUES(%s,%s)\"\n",
    "    vb = ''\n",
    "    for i in ii:\n",
    "        vb = vb +i\n",
    "    print(vb)\n",
    "    td=eval(input(\"enter the table data number:\"))\n",
    "    if 1==td:\n",
    "        val=input(\"enter the value like this (name,product):\")\n",
    "        gh=vb,val\n",
    "        print(type(gh))\n",
    "        print(vb,val)\n",
    "#         break\n",
    "        msql.commit()\n",
    "        print(cursor.rowcount,\"record inserted.\")\n",
    "    else: \n",
    "        val=input(\"enter the values like this [(name,product),(name,product)]:\")\n",
    "        cursor.executemany(vb,val)\n",
    "        msql.commit()\n",
    "        print(cursor.rowcount,\"record inserted.\")\n",
    "        "
   ]
  },
  {
   "cell_type": "code",
   "execution_count": null,
   "id": "f905af78",
   "metadata": {},
   "outputs": [],
   "source": []
  }
 ],
 "metadata": {
  "kernelspec": {
   "display_name": "Python 3 (ipykernel)",
   "language": "python",
   "name": "python3"
  },
  "language_info": {
   "codemirror_mode": {
    "name": "ipython",
    "version": 3
   },
   "file_extension": ".py",
   "mimetype": "text/x-python",
   "name": "python",
   "nbconvert_exporter": "python",
   "pygments_lexer": "ipython3",
   "version": "3.9.12"
  }
 },
 "nbformat": 4,
 "nbformat_minor": 5
}
