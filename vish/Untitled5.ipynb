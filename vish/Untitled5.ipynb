{
 "cells": [
  {
   "cell_type": "code",
   "execution_count": 8,
   "id": "c7159bb3",
   "metadata": {},
   "outputs": [
    {
     "name": "stdout",
     "output_type": "stream",
     "text": [
      "[1, 2, 3, 'ghg', 'ert', False, 78, 'fhk', 3.5, True, 6.5, 34.6]\n",
      "[False, True]\n",
      "[3.5, 6.5, 34.6]\n",
      "['ghg', 'ert', 'fhk']\n",
      "[1, 2, 3, 78]\n"
     ]
    }
   ],
   "source": [
    "l = [1,2,3,'ghg','ert',False,78,'fhk',3.5,True,6.5,34.6]\n",
    "a = []\n",
    "b = []\n",
    "s = []\n",
    "f = []\n",
    "\n",
    "\n",
    "for i in range(len(l)):\n",
    "    \n",
    "    if type(l[i]) == bool:\n",
    "        a.append(l[i])\n",
    "    elif type(l[i]) == str:\n",
    "        s.append(l[i])\n",
    "    elif type(l[i]) == int:\n",
    "        f.append(l[i])\n",
    "    else:\n",
    "        b.append(l[i])\n",
    "print(l)\n",
    "print(a)\n",
    "print(b)    \n",
    "print(s)\n",
    "print(f)"
   ]
  },
  {
   "cell_type": "code",
   "execution_count": 27,
   "id": "c336479d",
   "metadata": {},
   "outputs": [
    {
     "name": "stdout",
     "output_type": "stream",
     "text": [
      "None\n",
      "string: ['jay', 'hiten', 'vishal', 'sakshee', 'mitul', 'het', 'yui']\n",
      "boolign: [False, True]\n",
      "int: [1, 23, 4, 5, 1, 3, 4, 5]\n",
      "floot: [34.5, 76.8, 3.4]\n",
      "all list: [1, 23, 4, 5, 'yui', 'het', 'mitul', False, True, 'sakshee', 34.5, 76.8, 3.4, 1, 3, 4, 5, 'vishal', 'hiten']\n",
      "yui\n",
      "het\n",
      "mitul\n",
      "sakshee\n",
      "vishal\n",
      "hiten\n",
      "jay\n"
     ]
    }
   ],
   "source": [
    "l = [1,23,4,5,'yui','het','mitul',False,True,'sakshee',34.5,76.8,3.4,1,3,4,5,'vishal','hiten']\n",
    "s = []\n",
    "b = []\n",
    "t = []\n",
    "f = []\n",
    "\n",
    "for i in range(len(l)):\n",
    "    if type(l[i]) == str:\n",
    "        s.append(l[i])\n",
    "    elif type(l[i]) == bool:\n",
    "        b.append(l[i])\n",
    "    elif type(l[i]) == int:\n",
    "        t.append(l[i])\n",
    "    else:\n",
    "        f.append(l[i])\n",
    "        \n",
    "print(s.append('jay'))\n",
    "print(\"string:\",s[:-8:-1])\n",
    "print(\"boolign:\",b)\n",
    "print(\"int:\",t)\n",
    "print(\"floot:\",f)\n",
    "print(\"all list:\",l)\n",
    "\n",
    "for y in s:\n",
    "    print(y)"
   ]
  },
  {
   "cell_type": "code",
   "execution_count": null,
   "id": "0b7974ce",
   "metadata": {},
   "outputs": [],
   "source": []
  }
 ],
 "metadata": {
  "kernelspec": {
   "display_name": "Python 3 (ipykernel)",
   "language": "python",
   "name": "python3"
  },
  "language_info": {
   "codemirror_mode": {
    "name": "ipython",
    "version": 3
   },
   "file_extension": ".py",
   "mimetype": "text/x-python",
   "name": "python",
   "nbconvert_exporter": "python",
   "pygments_lexer": "ipython3",
   "version": "3.9.12"
  }
 },
 "nbformat": 4,
 "nbformat_minor": 5
}
