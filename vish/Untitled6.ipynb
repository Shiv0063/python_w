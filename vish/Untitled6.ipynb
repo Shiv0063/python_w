{
 "cells": [
  {
   "cell_type": "code",
   "execution_count": 2,
   "id": "7c8141a3",
   "metadata": {},
   "outputs": [
    {
     "name": "stdout",
     "output_type": "stream",
     "text": [
      "<class 'tuple'>\n"
     ]
    }
   ],
   "source": [
    "a =()\n",
    "print(type(a))"
   ]
  },
  {
   "cell_type": "code",
   "execution_count": 17,
   "id": "7e54ad39",
   "metadata": {},
   "outputs": [
    {
     "name": "stdout",
     "output_type": "stream",
     "text": [
      "<class 'tuple'>\n",
      "(12, 34, 56, 78, 98, 90, 90)\n",
      "<class 'list'>\n",
      "[12, 34, 56, 78, 98, 90, 90]\n",
      "[12, 34, 56, 78, 98, 90, 90, 'vishal']\n",
      "(12, 34, 56, 78, 98, 90, 90, 'vishal')\n"
     ]
    }
   ],
   "source": [
    "a = (12,34,56,78,98,90,90)\n",
    "print(type(a))\n",
    "print(a)\n",
    "l =list(a)\n",
    "print(type(l))\n",
    "print(l)\n",
    "l.append('vishal')\n",
    "print(l)\n",
    "a = tuple(l)\n",
    "print(a)+\n",
    " ++20\n",
    " "
   ]
  },
  {
   "cell_type": "code",
   "execution_count": null,
   "id": "2cb49109",
   "metadata": {},
   "outputs": [],
   "source": []
  }
 ],
 "metadata": {
  "kernelspec": {
   "display_name": "Python 3 (ipykernel)",
   "language": "python",
   "name": "python3"
  },
  "language_info": {
   "codemirror_mode": {
    "name": "ipython",
    "version": 3
   },
   "file_extension": ".py",
   "mimetype": "text/x-python",
   "name": "python",
   "nbconvert_exporter": "python",
   "pygments_lexer": "ipython3",
   "version": "3.9.12"
  }
 },
 "nbformat": 4,
 "nbformat_minor": 5
}
