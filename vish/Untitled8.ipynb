{
 "cells": [
  {
   "cell_type": "code",
   "execution_count": 14,
   "id": "2901b64e",
   "metadata": {},
   "outputs": [
    {
     "name": "stdout",
     "output_type": "stream",
     "text": [
      "('information_schema',)\n",
      "('mysql',)\n",
      "('performance_schema',)\n",
      "('phpmyadmin',)\n",
      "('test',)\n",
      "select the DATABASE:mysql\n",
      "now you will use DATABASE\n",
      "\n",
      "('column_stats',)\n",
      "('columns_priv',)\n",
      "('db',)\n",
      "('event',)\n",
      "('func',)\n",
      "('general_log',)\n",
      "('gtid_slave_pos',)\n",
      "('help_category',)\n",
      "('help_keyword',)\n",
      "('help_relation',)\n",
      "('help_topic',)\n",
      "('host',)\n",
      "('index_stats',)\n",
      "('innodb_index_stats',)\n",
      "('innodb_table_stats',)\n",
      "('ndb_binlog_index',)\n",
      "('plugin',)\n",
      "('proc',)\n",
      "('procs_priv',)\n",
      "('proxies_priv',)\n",
      "('roles_mapping',)\n",
      "('servers',)\n",
      "('slave_master_info',)\n",
      "('slave_relay_log_info',)\n",
      "('slave_worker_info',)\n",
      "('slow_log',)\n",
      "('table_stats',)\n",
      "('tables_priv',)\n",
      "('time_zone',)\n",
      "('time_zone_leap_second',)\n",
      "('time_zone_name',)\n",
      "('time_zone_transition',)\n",
      "('time_zone_transition_type',)\n",
      "('user',)\n"
     ]
    }
   ],
   "source": [
    "import mysql.connector\n",
    "\n",
    "mysql = mysql.connector.connect(\n",
    "    host=\"localhost\",\n",
    "    user=\"root\",\n",
    "    password=\"\"\n",
    ")\n",
    "\n",
    "cursor=mysql.cursor()\n",
    "\n",
    "cursor.execute(\"SHOW DATABASES\")\n",
    "\n",
    "for i in cursor:\n",
    "    print(i)\n",
    "\n",
    "# cursor.execute(\"USE test\")\n",
    "def usedb():\n",
    "    namedb = input(\"select the DATABASE:\")\n",
    "    use =\"USE \" \n",
    "    cursor.execute(use+namedb)\n",
    "    print(\"now you will use DATABASE\")\n",
    "\n",
    "def st():\n",
    "    cursor.execute(\"SHOW TABLES\")\n",
    "    for i in cursor:\n",
    "        print(i)\n",
    "        \n",
    "usedb()\n",
    "print()\n",
    "st()"
   ]
  },
  {
   "cell_type": "code",
   "execution_count": null,
   "id": "7e0c3c19",
   "metadata": {},
   "outputs": [],
   "source": []
  }
 ],
 "metadata": {
  "kernelspec": {
   "display_name": "Python 3 (ipykernel)",
   "language": "python",
   "name": "python3"
  },
  "language_info": {
   "codemirror_mode": {
    "name": "ipython",
    "version": 3
   },
   "file_extension": ".py",
   "mimetype": "text/x-python",
   "name": "python",
   "nbconvert_exporter": "python",
   "pygments_lexer": "ipython3",
   "version": "3.9.12"
  }
 },
 "nbformat": 4,
 "nbformat_minor": 5
}
