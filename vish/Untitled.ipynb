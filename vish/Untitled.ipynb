{
 "cells": [
  {
   "cell_type": "code",
   "execution_count": 10,
   "id": "e10a48d7",
   "metadata": {},
   "outputs": [
    {
     "name": "stdout",
     "output_type": "stream",
     "text": [
      "enter the number:45\n",
      "Z\n",
      "[[\n",
      "\\\\\\\n",
      "]]]]\n",
      "^^^^^\n",
      "______\n",
      "```````\n",
      "aaaaaaaa\n",
      "bbbbbbbbb\n",
      "cccccccccc\n",
      "ddddddddddd\n",
      "eeeeeeeeeeee\n",
      "fffffffffffff\n",
      "gggggggggggggg\n",
      "hhhhhhhhhhhhhhh\n",
      "iiiiiiiiiiiiiiii\n",
      "jjjjjjjjjjjjjjjjj\n",
      "kkkkkkkkkkkkkkkkkk\n",
      "lllllllllllllllllll\n",
      "mmmmmmmmmmmmmmmmmmmm\n",
      "nnnnnnnnnnnnnnnnnnnnn\n",
      "oooooooooooooooooooooo\n",
      "ppppppppppppppppppppppp\n",
      "qqqqqqqqqqqqqqqqqqqqqqqq\n",
      "rrrrrrrrrrrrrrrrrrrrrrrrr\n",
      "ssssssssssssssssssssssssss\n",
      "ttttttttttttttttttttttttttt\n",
      "uuuuuuuuuuuuuuuuuuuuuuuuuuuu\n",
      "vvvvvvvvvvvvvvvvvvvvvvvvvvvvv\n",
      "wwwwwwwwwwwwwwwwwwwwwwwwwwwwww\n",
      "xxxxxxxxxxxxxxxxxxxxxxxxxxxxxxx\n",
      "yyyyyyyyyyyyyyyyyyyyyyyyyyyyyyyy\n",
      "zzzzzzzzzzzzzzzzzzzzzzzzzzzzzzzzz\n",
      "{{{{{{{{{{{{{{{{{{{{{{{{{{{{{{{{{{\n",
      "|||||||||||||||||||||||||||||||||||\n",
      "}}}}}}}}}}}}}}}}}}}}}}}}}}}}}}}}}}}}\n",
      "~~~~~~~~~~~~~~~~~~~~~~~~~~~~~~~~~~~~~\n",
      "\n",
      "\n",
      "\n",
      "\n",
      "\n",
      "\n",
      "",
      "",
      "",
      "",
      "",
      "",
      "",
      "",
      "",
      "",
      "",
      "",
      "",
      "",
      "",
      "",
      "",
      "",
      "",
      "",
      "",
      "",
      "",
      "",
      "",
      "",
      "",
      "",
      "",
      "",
      "",
      "",
      "",
      "",
      "",
      "",
      "",
      "",
      "",
      "",
      "",
      "",
      "",
      "",
      "\n"
     ]
    }
   ],
   "source": [
    "def add(num):\n",
    "    for i in range(1,num):\n",
    "        for j in range(i):\n",
    "            x=i+89\n",
    "            print(chr(x), end=\"\")\n",
    "        print()\n",
    "\n",
    "a=int(input(\"enter the number:\"))\n",
    "\n",
    "add(a)"
   ]
  },
  {
   "cell_type": "markdown",
   "id": "59cc4f4a",
   "metadata": {},
   "source": []
  },
  {
   "cell_type": "code",
   "execution_count": 32,
   "id": "a1055e5f",
   "metadata": {},
   "outputs": [
    {
     "name": "stdout",
     "output_type": "stream",
     "text": [
      "OTP is:3883"
     ]
    }
   ],
   "source": [
    "from random import choice\n",
    "def otp(x):\n",
    "    a=\"8974562130\"\n",
    "    for i in range(x):\n",
    "        print(choice(a),end='')\n",
    "\n",
    "print(\"OTP is:\", end=\"\")\n",
    "otp(4)"
   ]
  },
  {
   "cell_type": "code",
   "execution_count": 36,
   "id": "f521dac7",
   "metadata": {},
   "outputs": [
    {
     "name": "stdout",
     "output_type": "stream",
     "text": [
      "this is a list: [[3, 4, 5, 5], ['fgr', 'rty', 'bot']]\n",
      "<class 'list'>\n"
     ]
    }
   ],
   "source": [
    "list = [[3,4,5,5],['fgr','rty','bot']]\n",
    "\n",
    "print(\"this is a list:\",list)\n",
    "print(type(list))\n"
   ]
  },
  {
   "cell_type": "code",
   "execution_count": null,
   "id": "2778fc26",
   "metadata": {},
   "outputs": [],
   "source": []
  },
  {
   "cell_type": "code",
   "execution_count": null,
   "id": "92764ed3",
   "metadata": {},
   "outputs": [],
   "source": []
  }
 ],
 "metadata": {
  "kernelspec": {
   "display_name": "Python 3 (ipykernel)",
   "language": "python",
   "name": "python3"
  },
  "language_info": {
   "codemirror_mode": {
    "name": "ipython",
    "version": 3
   },
   "file_extension": ".py",
   "mimetype": "text/x-python",
   "name": "python",
   "nbconvert_exporter": "python",
   "pygments_lexer": "ipython3",
   "version": "3.9.12"
  }
 },
 "nbformat": 4,
 "nbformat_minor": 5
}
