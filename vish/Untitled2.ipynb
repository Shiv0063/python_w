{
 "cells": [
  {
   "cell_type": "code",
   "execution_count": 4,
   "id": "5d702cbe",
   "metadata": {},
   "outputs": [
    {
     "name": "stdout",
     "output_type": "stream",
     "text": [
      "name is vishal\n",
      "id is 45678\n"
     ]
    }
   ],
   "source": [
    "class demo:\n",
    "    \n",
    "    num = 'vishal'\n",
    "    idn = 45678\n",
    "    \n",
    "    def fun(tm):\n",
    "        print('name is', tm.num)\n",
    "        print('id is', tm.idn)\n",
    "        \n",
    "d = demo()\n",
    "\n",
    "d.fun()\n",
    "    "
   ]
  },
  {
   "cell_type": "code",
   "execution_count": 7,
   "id": "cf1ac553",
   "metadata": {},
   "outputs": [
    {
     "name": "stdout",
     "output_type": "stream",
     "text": [
      "vishal\n",
      "7804\n"
     ]
    }
   ],
   "source": [
    "class fr:\n",
    "\n",
    "    def __init__(rg,num,idf):\n",
    "        rg.num = num\n",
    "        rg.idf = idf\n",
    "\n",
    "d2 = fr(\"vishal\",7804)\n",
    "print(d2.num)\n",
    "print(d2.idf)"
   ]
  },
  {
   "cell_type": "code",
   "execution_count": 12,
   "id": "c7410c90",
   "metadata": {},
   "outputs": [
    {
     "name": "stdout",
     "output_type": "stream",
     "text": [
      "1 is: 15\n",
      "2 is: 56\n",
      "3 is: 89\n",
      "ans is: 100.66666666666667\n"
     ]
    }
   ],
   "source": [
    "class demo2:\n",
    "    \n",
    "    f = 0\n",
    "    s = 0\n",
    "    t = 0\n",
    "    a = 0\n",
    "    \n",
    "    def __init__(x,fst,snd,thd):\n",
    "        x.f = fst\n",
    "        x.s = snd\n",
    "        x.t = thd\n",
    "        \n",
    "    def display(x):\n",
    "        print('1 is:',x.f)\n",
    "        print('2 is:',x.s)\n",
    "        print('3 is:',x.t)\n",
    "        print('ans is:',x.a)\n",
    "        \n",
    "    def ans(x):\n",
    "        x.a = x.f + x.s + x.t /3\n",
    "\n",
    "obj = demo2(15,56,89)\n",
    "\n",
    "obj.ans()\n",
    "\n",
    "obj.display()\n"
   ]
  },
  {
   "cell_type": "code",
   "execution_count": 18,
   "id": "d619a261",
   "metadata": {},
   "outputs": [
    {
     "name": "stdout",
     "output_type": "stream",
     "text": [
      "{'i', 'h', 's', 'a', 'l', 'v'}\n"
     ]
    }
   ],
   "source": [
    "name=('vishal')\n",
    "nname=name\n",
    "print(nname)"
   ]
  },
  {
   "cell_type": "code",
   "execution_count": 3,
   "id": "076e4ad3",
   "metadata": {},
   "outputs": [
    {
     "name": "stdout",
     "output_type": "stream",
     "text": [
      "y\n"
     ]
    }
   ],
   "source": [
    "import re\n",
    "\n",
    "txt = 'im vishal'\n",
    "\n",
    "x = re.search('vishal', txt)\n",
    "\n",
    "if x:\n",
    "    print('y')\n",
    "\n",
    "else:\n",
    "    print('n')"
   ]
  },
  {
   "cell_type": "code",
   "execution_count": 11,
   "id": "7566a2b6",
   "metadata": {},
   "outputs": [
    {
     "name": "stdout",
     "output_type": "stream",
     "text": [
      "3\n",
      "['python', 'python', 'python']\n"
     ]
    }
   ],
   "source": [
    "import re\n",
    "\n",
    "tt = 'im python . pyhton is not work. python python'\n",
    "\n",
    "s = re.findall('python',tt)\n",
    "print(len(x))\n",
    "print(x)"
   ]
  },
  {
   "cell_type": "code",
   "execution_count": 12,
   "id": "c47a503b",
   "metadata": {},
   "outputs": [
    {
     "name": "stdout",
     "output_type": "stream",
     "text": [
      "3\n",
      "['python', 'python', 'python']\n"
     ]
    }
   ],
   "source": [
    "import re\n",
    "\n",
    "tt = 'im python . pyhton is not work. python python'\n",
    "\n",
    "s = re.findall('python',tt)\n",
    "print(len(x))\n",
    "print(x)"
   ]
  },
  {
   "cell_type": "code",
   "execution_count": null,
   "id": "7d0ada19",
   "metadata": {},
   "outputs": [],
   "source": []
  }
 ],
 "metadata": {
  "kernelspec": {
   "display_name": "Python 3 (ipykernel)",
   "language": "python",
   "name": "python3"
  },
  "language_info": {
   "codemirror_mode": {
    "name": "ipython",
    "version": 3
   },
   "file_extension": ".py",
   "mimetype": "text/x-python",
   "name": "python",
   "nbconvert_exporter": "python",
   "pygments_lexer": "ipython3",
   "version": "3.9.12"
  }
 },
 "nbformat": 4,
 "nbformat_minor": 5
}
