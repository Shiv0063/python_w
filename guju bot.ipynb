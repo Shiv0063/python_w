{
 "cells": [
  {
   "cell_type": "code",
   "execution_count": null,
   "id": "b9ca2408",
   "metadata": {},
   "outputs": [],
   "source": [
    "print(\"Let's talk! Enter 'quit' to exit...\")\n",
    "\n",
    "while True:\n",
    "    user = input(\"You: \")\n",
    "    if user == 'hello':\n",
    "        print(f'Bot: gujrati ma bol topa.')\n",
    "        continue\n",
    "    elif user == 'kem cho':\n",
    "        print(f'Bot: arr bapu full moj, tame kiyo?')\n",
    "        continue\n",
    "    elif user == 'halkat':\n",
    "        print(f'Bot: mane pan avde che me apii...?')\n",
    "        continue\n",
    "    elif user == 'hmm':\n",
    "        print(f'Bot: tara bape aj sikvadu che?')\n",
    "        continue\n",
    "    print(f\"Bot: {user}\")\n",
    "    if user == 'quit':\n",
    "        break"
   ]
  },
  {
   "cell_type": "code",
   "execution_count": null,
   "id": "68e0aa53",
   "metadata": {},
   "outputs": [],
   "source": []
  },
  {
   "cell_type": "code",
   "execution_count": null,
   "id": "a5815e09",
   "metadata": {},
   "outputs": [],
   "source": []
  }
 ],
 "metadata": {
  "kernelspec": {
   "display_name": "Python 3 (ipykernel)",
   "language": "python",
   "name": "python3"
  },
  "language_info": {
   "codemirror_mode": {
    "name": "ipython",
    "version": 3
   },
   "file_extension": ".py",
   "mimetype": "text/x-python",
   "name": "python",
   "nbconvert_exporter": "python",
   "pygments_lexer": "ipython3",
   "version": "3.9.12"
  }
 },
 "nbformat": 4,
 "nbformat_minor": 5
}
