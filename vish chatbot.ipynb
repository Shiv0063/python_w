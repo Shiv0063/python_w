{
 "cells": [
  {
   "cell_type": "code",
   "execution_count": null,
   "id": "fd0f83da",
   "metadata": {},
   "outputs": [],
   "source": [
    "print(\"Let's talk! Enter 'quit' to exit...\")\n",
    "\n",
    "while True:\n",
    "    user = input(\"You: \")\n",
    "    print(f\"Bot: {user}\")\n",
    "\n",
    "    if user == 'quit':\n",
    "        break\n",
    "    else sser == 'hii':\n",
    "        return 'hii vishal'"
   ]
  },
  {
   "cell_type": "code",
   "execution_count": null,
   "id": "f4482740",
   "metadata": {},
   "outputs": [],
   "source": []
  }
 ],
 "metadata": {
  "kernelspec": {
   "display_name": "Python 3 (ipykernel)",
   "language": "python",
   "name": "python3"
  },
  "language_info": {
   "codemirror_mode": {
    "name": "ipython",
    "version": 3
   },
   "file_extension": ".py",
   "mimetype": "text/x-python",
   "name": "python",
   "nbconvert_exporter": "python",
   "pygments_lexer": "ipython3",
   "version": "3.9.12"
  }
 },
 "nbformat": 4,
 "nbformat_minor": 5
}
